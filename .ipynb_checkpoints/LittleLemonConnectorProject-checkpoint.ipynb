{
 "cells": [
  {
   "cell_type": "markdown",
   "id": "fb208d93",
   "metadata": {},
   "source": [
    "# Using configparser module to secure password"
   ]
  },
  {
   "cell_type": "code",
   "execution_count": 16,
   "id": "4dc63385",
   "metadata": {},
   "outputs": [],
   "source": [
    "# Using the configparser module to keep my password secret and instead assign it to a variable\n",
    "import configparser\n",
    "\n",
    "config = configparser.ConfigParser()\n",
    "config.read('config.ini')\n",
    "\n",
    "password = config.get('mysql', 'password')\n"
   ]
  },
  {
   "cell_type": "markdown",
   "id": "d04e19aa",
   "metadata": {},
   "source": [
    "# Setting up the connection"
   ]
  },
  {
   "cell_type": "code",
   "execution_count": 17,
   "id": "423500db",
   "metadata": {},
   "outputs": [],
   "source": [
    "# Import module\n",
    "import mysql.connector as connector"
   ]
  },
  {
   "cell_type": "code",
   "execution_count": 30,
   "id": "93fbf12b",
   "metadata": {},
   "outputs": [
    {
     "name": "stdout",
     "output_type": "stream",
     "text": [
      "Connection Sucsessful!\n"
     ]
    }
   ],
   "source": [
    "# Establish connection to DB\n",
    "try:\n",
    "    connection = connector.connect(user = 'root', password = password, db='LittleLemonDB')\n",
    "    print('Connection Sucsessful!')\n",
    "except mysql.connector.Error as err:\n",
    "    print('Error during database connection: {}'.format(err))"
   ]
  },
  {
   "cell_type": "code",
   "execution_count": 31,
   "id": "eda67a6a",
   "metadata": {},
   "outputs": [],
   "source": [
    "# Set up the cursor\n",
    "cursor = connection.cursor()"
   ]
  },
  {
   "cell_type": "code",
   "execution_count": 32,
   "id": "bff5a807",
   "metadata": {},
   "outputs": [
    {
     "name": "stdout",
     "output_type": "stream",
     "text": [
      "[('Bookings',), ('Cancellations',), ('Customers',), ('Menu',), ('order_delivery_status',), ('Orders',), ('ordersview',), ('Staff',)]\n"
     ]
    }
   ],
   "source": [
    "# Test the connection is working\n",
    "show_tables_query = 'SHOW TABLES'\n",
    "cursor.execute(show_tables_query)\n",
    "\n",
    "# Fetch all the results and store them in a variable to print\n",
    "results = cursor.fetchall()\n",
    "print(results)\n",
    "\n"
   ]
  },
  {
   "cell_type": "markdown",
   "id": "55e9acd8",
   "metadata": {},
   "source": [
    "# Join Query"
   ]
  },
  {
   "cell_type": "code",
   "execution_count": 38,
   "id": "c5facc4f",
   "metadata": {},
   "outputs": [
    {
     "name": "stdout",
     "output_type": "stream",
     "text": [
      "[]\n"
     ]
    }
   ],
   "source": [
    "join_query = '''SELECT CONCAT(c.CustomerFirstName, ' ', c.CustomerSurname) AS 'CustomerFullName', c.CustomerPhone, c.CustomerEmail, o.Cost AS 'BillAmount' \n",
    "FROM Customers c\n",
    "INNER JOIN Bookings b\n",
    "ON c.CustomerID = b. CustomerID\n",
    "INNER JOIN Orders o\n",
    "ON b.BookingID = o.OrderID\n",
    "WHERE o.Cost > 60;'''\n",
    "\n",
    "\n",
    "cursor.execute(join_query)\n",
    "results2 = cursor.fetchall()\n",
    "print(results2)"
   ]
  }
 ],
 "metadata": {
  "kernelspec": {
   "display_name": "Python 3 (ipykernel)",
   "language": "python",
   "name": "python3"
  },
  "language_info": {
   "codemirror_mode": {
    "name": "ipython",
    "version": 3
   },
   "file_extension": ".py",
   "mimetype": "text/x-python",
   "name": "python",
   "nbconvert_exporter": "python",
   "pygments_lexer": "ipython3",
   "version": "3.10.9"
  }
 },
 "nbformat": 4,
 "nbformat_minor": 5
}
